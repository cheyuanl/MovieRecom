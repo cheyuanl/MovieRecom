{
 "cells": [
  {
   "cell_type": "markdown",
   "metadata": {},
   "source": [
    "## Movie Recommendation - Midterm Report\n",
    "\n",
    "As a quick refresher, our recommendation system is composed of three major parts. \n",
    "1. **Dataset compilation** - a dataset with more detail content/attribute of users and movies.\n",
    "2. **Recommendation model** - provide a model to relate the additional content.\n",
    "3. **Visualization** - provide insight of the data and the model through the visualization.\n",
    "\n",
    "Our main goal is to compile a dataset with more content other than only the simple rating, model the additional contents and with user, and insightful visualization."
   ]
  },
  {
   "cell_type": "markdown",
   "metadata": {},
   "source": [
    "### Dataset Compilation"
   ]
  },
  {
   "cell_type": "markdown",
   "metadata": {},
   "source": [
    "###  Recommendation model\n",
    "#### Refresher\n",
    "As a quick refresher of collaberative-filtering method. The matrix factorization method discovers latent features underlying the interactions between user and movie, assuming the inner product of user's latent features $u_i$ and movies latent $v_j$ is the rating:\n",
    "$$h_\\theta(i,j) = u_i^T v_j$$\n",
    "As a intuitive illustartion, suppose there are $k$ latent features in $u$ and $v$. We can think of this model discribes how each latent feature $k$ matches to each other. For example, suppose the number of latent variable is $k$ is 4:\n",
    "$$u_i = [0.4, 0.5, -0.3, 0.7]$$ $$v_j = [0.2, -0.6, -0.2. 0.3]$$\n",
    "The rating will be the inner product of this two vectors:\n",
    "$$[0.4*0.2]_{feature1}+[0.5*(-0.6)]_{feature2}+[(-0.3)*(-0.2)]_{feature_3}+[0.7*0.3]_{feature4} = 0.05 $$\n",
    "(Note that $user_i$ and $movie_j$ each has -0.3 and -0.2 of the $feature_3$. Since both are negative, the product is still positive.)\n",
    "\n",
    "By minimizing the loss funtion, we are effectively finding the latent features and the coeficients that minimizing the error reconstructed matrix to the training data.\n",
    "$$\\sum_{i,j\\in S}\\ell(h_\\theta(i,j),X_{i,j}) + \\lambda_u ||U||_2^2 + \\lambda_v ||V||_2^2$$\n",
    "#### Motivation \n",
    "However, we think there are something missing here.\n",
    "* It is hard to interpret the meaning of latent feature.\n",
    "* The inner product suggest that the rating is the linear combination of the latent features, which might not be true.\n",
    "* There are more information we can retrieve that influence the rating. \n",
    "\n",
    "Therefore, instead of modeling the rating as the linear combination of the latent features of user and movie, we think of general and explicit way to model the relation. That is, we treat each person as a classifier, where the input feature is explicitly defined by the additional attributes that we collected from the web. Which can be illustrated as follows\n",
    "$$rating_{ij} \\sim h_{\\theta_i}(m_j) $$, where i denotes a person and his/her preference is encoded in parameter $\\theta_i$, $m_j$ is the feature of movie, which will be the additional content that we collect (i.e genre, actors, year...) and $h$ is the model. For example, given a same input feature of $m_j$={'1996', 'action, romance', ...} and a persons preference parameter $\\theta_i$={'>1950', 'action || romance', ...} the model $h$ (i.e. decision tree, SVM, cosine simlarity, ...), and the target output (i.e. rating value). \n",
    "\n",
    "In this way, we could explicitly define the meaning of feature, which would facilitates the meaningfulness of visualization and interpretability of the data. And we do not assumpt the linearity of features to the output, which might gives more representational power.\n",
    "\n"
   ]
  },
  {
   "cell_type": "code",
   "execution_count": 1,
   "metadata": {
    "collapsed": false
   },
   "outputs": [],
   "source": [
    "import matplotlib\n",
    "matplotlib.use(\"svg\")\n",
    "%matplotlib inline\n",
    "import matplotlib.pyplot as plt\n",
    "plt.style.use(\"ggplot\")\n",
    "from mpl_toolkits.axes_grid1 import ImageGrid\n",
    "from scipy import spatial\n",
    "import pandas as pd\n",
    "import numpy as np\n",
    "import collaborative_filtering as cf\n",
    "import linear_regression as lr\n",
    "\n",
    "links = pd.read_csv('../resource/ml-latest-small/links.csv')\n",
    "movies = pd.read_csv(\"../resource/ml-latest-small/movies.csv\")\n",
    "ratings = pd.read_csv(\"../resource/ml-latest-small/ratings.csv\")\n",
    "imdb_movies = pd.read_csv('../resource/ml-latest-small/movie_objects.csv')"
   ]
  },
  {
   "cell_type": "code",
   "execution_count": 7,
   "metadata": {
    "collapsed": true
   },
   "outputs": [],
   "source": [
    "X_tr, X_te, movieNames, idxToLenId = cf.process(ratings, movies, np.random.permutation(len(ratings)))"
   ]
  },
  {
   "cell_type": "code",
   "execution_count": 11,
   "metadata": {
    "collapsed": false
   },
   "outputs": [
    {
     "name": "stdout",
     "output_type": "stream",
     "text": [
      "Iter: 000\ttrain error: 6.630\tTest error: 6.647\n",
      "Iter: 005\ttrain error: 0.433\tTest error: 1.255\n",
      "Iter: 010\ttrain error: 0.412\tTest error: 1.303\n",
      "Iter: 015\ttrain error: 0.406\tTest error: 1.333\n",
      "Iter: 020\ttrain error: 0.403\tTest error: 1.354\n",
      "Iter: 025\ttrain error: 0.402\tTest error: 1.367\n",
      "Iter: 030\ttrain error: 0.401\tTest error: 1.378\n",
      "Iter: 035\ttrain error: 0.401\tTest error: 1.383\n",
      "Iter: 040\ttrain error: 0.400\tTest error: 1.386\n",
      "Iter: 045\ttrain error: 0.400\tTest error: 1.389\n",
      "Iter: 050\ttrain error: 0.400\tTest error: 1.392\n"
     ]
    }
   ],
   "source": [
    "U, V = cf.train(X_tr, X_te, lam = 1, niters = 51, verbose = True)"
   ]
  },
  {
   "cell_type": "markdown",
   "metadata": {},
   "source": [
    "#### Experiements\n",
    "Let's start with simple case.\n",
    "1. Each user as same Linear Regression model with different parameter trained by watching list.\n",
    "Input feature: numeric attributes. $x$ = ['year', 'votes', 'runtimes']\n"
   ]
  },
  {
   "cell_type": "code",
   "execution_count": 38,
   "metadata": {
    "collapsed": false
   },
   "outputs": [],
   "source": [
    "try:\n",
    "    imdb_movies = imdb_movies.set_index('id')\n",
    "    links = links.set_index('movieId')\n",
    "except:\n",
    "    pass\n",
    "idxToImdbId = [int(links.loc[i].imdbId) for i in idxToLenId]"
   ]
  },
  {
   "cell_type": "code",
   "execution_count": 39,
   "metadata": {
    "collapsed": false
   },
   "outputs": [],
   "source": [
    "movie_feature_dict = lr.process(imdb_movies)"
   ]
  },
  {
   "cell_type": "code",
   "execution_count": 41,
   "metadata": {
    "collapsed": false
   },
   "outputs": [
    {
     "name": "stdout",
     "output_type": "stream",
     "text": [
      "Train error 0.85104005101 Test error 0.891970570392\n"
     ]
    }
   ],
   "source": [
    "user_models = lr.train(X_tr, movie_feature_dict, idxToImdbId)\n",
    "R = lr.reconstruct(user_models, movie_feature_dict, idxToImdbId)\n",
    "\n",
    "train_mse = lr.error(X_tr, R) \n",
    "test_mse = lr.error(X_te, R)\n",
    "\n",
    "print \"Train error {} Test error {}\".format(train_mse, test_mse)\n"
   ]
  },
  {
   "cell_type": "markdown",
   "metadata": {},
   "source": [
    "###  Visualization\n",
    "\n"
   ]
  },
  {
   "cell_type": "code",
   "execution_count": 42,
   "metadata": {
    "collapsed": false
   },
   "outputs": [
    {
     "data": {
      "text/plain": [
       "<matplotlib.image.AxesImage at 0x10e768290>"
      ]
     },
     "execution_count": 42,
     "metadata": {},
     "output_type": "execute_result"
    },
    {
     "data": {
      "image/png": "[encoded data removed]",
      "text/plain": [
       "<matplotlib.figure.Figure at 0x10dce1f10>"
      ]
     },
     "metadata": {},
     "output_type": "display_data"
    }
   ],
   "source": [
    "# Training_data \n",
    "fig = plt.figure(figsize=(18, 10))\n",
    "plt.imshow(X_tr, cmap = plt.cm.gray, interpolation=\"nearest\")"
   ]
  },
  {
   "cell_type": "code",
   "execution_count": 43,
   "metadata": {
    "collapsed": false
   },
   "outputs": [
    {
     "data": {
      "text/plain": [
       "<matplotlib.image.AxesImage at 0x10da47cd0>"
      ]
     },
     "execution_count": 43,
     "metadata": {},
     "output_type": "execute_result"
    },
    {
     "data": {
      "image/png": "[encoded data removed]",
      "text/plain": [
       "<matplotlib.figure.Figure at 0x10e7c86d0>"
      ]
     },
     "metadata": {},
     "output_type": "display_data"
    }
   ],
   "source": [
    "# Reconstructed by collaberative_filtering\n",
    "fig = plt.figure(figsize=(18, 10))\n",
    "plt.imshow(U.dot(V.T)[0:20,0:100], cmap = plt.cm.gray, interpolation=\"nearest\")"
   ]
  },
  {
   "cell_type": "code",
   "execution_count": 44,
   "metadata": {
    "collapsed": false
   },
   "outputs": [
    {
     "data": {
      "text/plain": [
       "<matplotlib.image.AxesImage at 0x10dbc6190>"
      ]
     },
     "execution_count": 44,
     "metadata": {},
     "output_type": "execute_result"
    },
    {
     "data": {
      "image/png": "[encoded data removed]",
      "text/plain": [
       "<matplotlib.figure.Figure at 0x10dacac50>"
      ]
     },
     "metadata": {},
     "output_type": "display_data"
    }
   ],
   "source": [
    "# Reconstructed matrix by lr\n",
    "fig = plt.figure(figsize=(18, 10))\n",
    "plt.imshow(R[0:20,0:100], cmap = plt.cm.gray, interpolation=\"nearest\")"
   ]
  }
 ],
 "metadata": {
  "kernelspec": {
   "display_name": "Python 2",
   "language": "python",
   "name": "python2"
  },
  "language_info": {
   "codemirror_mode": {
    "name": "ipython",
    "version": 2
   },
   "file_extension": ".py",
   "mimetype": "text/x-python",
   "name": "python",
   "nbconvert_exporter": "python",
   "pygments_lexer": "ipython2",
   "version": "2.7.12"
  }
 },
 "nbformat": 4,
 "nbformat_minor": 1
}
