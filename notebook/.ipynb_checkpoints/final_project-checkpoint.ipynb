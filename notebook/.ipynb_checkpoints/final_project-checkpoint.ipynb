{
 "cells": [
  {
   "cell_type": "code",
   "execution_count": 1,
   "metadata": {
    "collapsed": true
   },
   "outputs": [],
   "source": [
    "\n",
    "from imdbpie import Imdb\n",
    "import pandas as pd"
   ]
  },
  {
   "cell_type": "code",
   "execution_count": null,
   "metadata": {
    "collapsed": true
   },
   "outputs": [],
   "source": [
    "def dataCompiling(ratings,links):\n",
    "    \"\"\"\n",
    "    Input:\n",
    "    ratings : csv file that contains user ratings for a movie id along with user id\n",
    "    links: csv file that conatins movie id along with imdb id\n",
    "    \"\"\"\n",
    "    dfRating=pd.read_csv(ratings).drop(\"timestamp\",axis=1)\n",
    "    dfMovieInfo=pd.read_csv(links)\n",
    "    \n",
    "    \"\"\"For a cloumn with rating in imdb\"\"\"\n",
    "    dfMovieInfo[\"AvgRating\"]=0.0\n",
    "    \n",
    "    start=time.time()\n",
    "    for ix,imdbId in enumerate(dfMovieInfo[\"imdbId\"]):\n",
    "        movieDetails=imdb.get_title_by_id(\"tt\"+str(imdbId).zfill(7))\n",
    "        dfMovieInfo.loc[ix,\"AvgRating\"]=movieDetails.rating"
   ]
  },
  {
   "cell_type": "code",
   "execution_count": null,
   "metadata": {
    "collapsed": true
   },
   "outputs": [],
   "source": []
  }
 ],
 "metadata": {
  "anaconda-cloud": {},
  "kernelspec": {
   "display_name": "Python 2",
   "language": "python",
   "name": "python2"
  },
  "language_info": {
   "codemirror_mode": {
    "name": "ipython",
    "version": 2
   },
   "file_extension": ".py",
   "mimetype": "text/x-python",
   "name": "python",
   "nbconvert_exporter": "python",
   "pygments_lexer": "ipython2",
   "version": "2.7.12"
  }
 },
 "nbformat": 4,
 "nbformat_minor": 1
}
