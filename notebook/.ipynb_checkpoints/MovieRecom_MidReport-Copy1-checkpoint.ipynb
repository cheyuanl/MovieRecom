{
 "cells": [
  {
   "cell_type": "markdown",
   "metadata": {},
   "source": [
    "## Movie Recommendation - Midterm Report\n",
    "\n",
    "As a quick refresher, our recommendation system is composed of three major parts. \n",
    "1. **Dataset compilation** - a dataset with more detail content/attribute of users and movies.\n",
    "2. **Recommendation model** - provide a model to relate the additional content.\n",
    "3. **Visualization** - provide insight of the data and the model through the visualization.\n",
    "\n",
    "Our main goal is to compile a dataset with more content other than only the simple rating, model the additional contents and with user, and insightful visualization."
   ]
  },
  {
   "cell_type": "markdown",
   "metadata": {},
   "source": [
    "### Dataset Compilation"
   ]
  },
  {
   "cell_type": "markdown",
   "metadata": {},
   "source": [
    "###  Recommendation model\n",
    "#### Refresher\n",
    "As a quick refresher of collaberative-filtering method. The matrix factorization method discovers latent features underlying the interactions between user and movie, assuming the inner product of user's latent features $u_i$ and movies latent $v_j$ is the rating:\n",
    "$$h_\\theta(i,j) = u_i^T v_j$$\n",
    "As a intuitive illustartion, suppose there are $k$ latent features in $u$ and $v$. We can think of this model discribes how each latent feature $k$ matches to each other. For example, suppose the number of latent variable is $k$ is 4:\n",
    "$$u_i = [0.4, 0.5, -0.3, 0.7]$$ $$v_j = [0.2, -0.6, -0.2. 0.3]$$\n",
    "The rating will be the inner product of this two vectors:\n",
    "$$[0.4*0.2]_{feature1}+[0.5*(-0.6)]_{feature2}+[(-0.3)*(-0.2)]_{feature_3}+[0.7*0.3]_{feature4} = 0.05 $$\n",
    "(Note that $user_i$ and $movie_j$ each has -0.3 and -0.2 of the $feature_3$. Since both are negative, the product is still positive.)\n",
    "\n",
    "By minimizing the loss funtion, we are effectively finding the latent features and the coeficients that minimizing the error reconstructed matrix to the training data.\n",
    "$$\\sum_{i,j\\in S}\\ell(h_\\theta(i,j),X_{i,j}) + \\lambda_u ||U||_2^2 + \\lambda_v ||V||_2^2$$\n",
    "#### Motivation \n",
    "However, we think there are something missing here.\n",
    "* It is hard to interpret the meaning of latent feature.\n",
    "* The inner product suggest that the rating is the linear combination of the latent features, which might not be true.\n",
    "* There are more information we can retrieve that influence the rating. \n",
    "\n",
    "Therefore, instead of modeling the rating as the linear combination of the latent features of user and movie, we think of general and explicit way to model the relation. That is, we treat each person as a classifier, where the input feature is explicitly defined by the additional attributes that we collected from the web. Which can be illustrated as follows\n",
    "$$rating_{ij} \\sim h_{\\theta_i}(m_j) $$, where i denotes a person and his/her preference is encoded in parameter $\\theta_i$, $m_j$ is the feature of movie, which will be the additional content that we collect (i.e genre, actors, year...) and $h$ is the model. For example, given a same input feature of $m_j$={'1996', 'action, romance', ...} and a persons preference parameter $\\theta_i$={'>1950', 'action || romance', ...} the model $h$ (i.e. decision tree, SVM, cosine simlarity, ...), and the target output (i.e. rating value). \n",
    "\n",
    "In this way, we could explicitly define the meaning of feature, which would facilitates the meaningfulness of visualization and interpretability of the data. And we do not assumpt the linearity of features to the output, which might gives more representational power.\n",
    "\n",
    "#### Experiements\n",
    "Let's start with simple case. We have $h$ and feature vector $m$ to decide. \n",
    "1. Linear model with binary feature vector\n",
    "\n",
    "We encode all of the movie cateforical attributes into a binary vector, and leaving the numeric feature intact."
   ]
  },
  {
   "cell_type": "code",
   "execution_count": null,
   "metadata": {
    "collapsed": false
   },
   "outputs": [
    {
     "name": "stdout",
     "output_type": "stream",
     "text": [
      "Iter:0\tTrain Err:6.94296818615\tTest Err:6.88091723524\n",
      "Iter:5\tTrain Err:0.428991202331\tTest Err:1.32431234288\n",
      "Iter:10\tTrain Err:0.409560522416\tTest Err:1.38190904016\n",
      "Iter:15\tTrain Err:0.40462748858\tTest Err:1.42543872305\n",
      "Iter:20\tTrain Err:0.402795900223\tTest Err:1.44418563887\n",
      "Iter:25\tTrain Err:0.401503110605\tTest Err:1.45687046969\n",
      "Iter:30\tTrain Err:0.400282004055\tTest Err:1.46979343225"
     ]
    }
   ],
   "source": [
    "from collaborative_filtering import process, error, train, recommend\n",
    "from mpl_toolkits.axes_grid1 import ImageGrid\n",
    "import pandas as pd\n",
    "import numpy as np\n",
    "import cPickle as pickle\n",
    "import imdb\n",
    "import math\n",
    "import matplotlib.pyplot as plt\n",
    "\n",
    "\n",
    "df_movies = pd.read_csv('../resource/ml-latest-small/movie_objects.csv', encoding = 'utf-8')\n",
    "df_movies = df_movies.set_index('id')\n",
    "movies = pd.read_csv(\"../resource/ml-latest-small/movies.csv\")\n",
    "ratings = pd.read_csv(\"../resource/ml-latest-small/ratings.csv\")\n",
    "\n",
    "X_tr, X_te, movieNames = process(ratings, movies, np.random.permutation(len(ratings)))\n",
    "k = 5\n",
    "m, n = X_tr.shape\n",
    "U = np.random.rand(m, k)\n",
    "V = np.random.rand(n, k)\n",
    "\n",
    "U, V = train(X_tr, X_te, k, U, V, lam = 1, niters = 51, verbose = True)"
   ]
  },
  {
   "cell_type": "code",
   "execution_count": 62,
   "metadata": {
    "collapsed": false
   },
   "outputs": [
    {
     "data": {
      "text/plain": [
       "<matplotlib.image.AxesImage at 0x1115f7210>"
      ]
     },
     "execution_count": 62,
     "metadata": {},
     "output_type": "execute_result"
    },
    {
     "data": {
      "image/png": "[encoded data removed]",
      "text/plain": [
       "<matplotlib.figure.Figure at 0x110e08350>"
      ]
     },
     "metadata": {},
     "output_type": "display_data"
    }
   ],
   "source": [
    "fig = plt.figure(figsize=(18, 7))\n",
    "grid = ImageGrid(fig, 111,          # as in plt.subplot(111)\n",
    "                 nrows_ncols=(1,3),\n",
    "                 axes_pad=0.15,\n",
    "                 share_all=True,\n",
    "                 cbar_location=\"right\",\n",
    "                 cbar_mode=\"single\",\n",
    "                 cbar_size=\"7%\",\n",
    "                 cbar_pad=0.15,\n",
    "                 )\n",
    "\n",
    "grid[0].imshow(U[:20,:], cmap=plt.cm.gray, interpolation=\"nearest\")\n",
    "grid[1].imshow(V[:20,:].T, cmap=plt.cm.gray, interpolation=\"nearest\")\n",
    "# print U[:20,:].dot(V[:20,:].T).shape\n",
    "grid[2].imshow(U[:20,:].dot(V[:20,:].T), cmap=plt.cm.gray, interpolation=\"nearest\")"
   ]
  },
  {
   "cell_type": "code",
   "execution_count": null,
   "metadata": {
    "collapsed": false
   },
   "outputs": [],
   "source": []
  },
  {
   "cell_type": "markdown",
   "metadata": {},
   "source": [
    "###  Visualization\n",
    "\n"
   ]
  }
 ],
 "metadata": {
  "kernelspec": {
   "display_name": "Python 2",
   "language": "python",
   "name": "python2"
  },
  "language_info": {
   "codemirror_mode": {
    "name": "ipython",
    "version": 2
   },
   "file_extension": ".py",
   "mimetype": "text/x-python",
   "name": "python",
   "nbconvert_exporter": "python",
   "pygments_lexer": "ipython2",
   "version": "2.7.12"
  }
 },
 "nbformat": 4,
 "nbformat_minor": 1
}
